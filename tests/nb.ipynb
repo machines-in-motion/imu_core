{
 "cells": [
  {
   "cell_type": "code",
   "execution_count": 2,
   "id": "1b00d927",
   "metadata": {},
   "outputs": [],
   "source": [
    "import imu_core.imu_core_cpp, time, numpy as np, signal, sys"
   ]
  },
  {
   "cell_type": "code",
   "execution_count": 3,
   "id": "a4a4721f",
   "metadata": {},
   "outputs": [],
   "source": [
    "def handle_signal(s, f):\n",
    "    global keep_running\n",
    "    keep_running = False"
   ]
  },
  {
   "cell_type": "code",
   "execution_count": null,
   "id": "9ac53568",
   "metadata": {},
   "outputs": [],
   "source": [
    "keep_running = True\n",
    "imu = imu_core.imu_core_cpp.Imu3DM_GX3_25(\"/dev/ttyACM1\", True)  # assuming port of /dev/ttyACM1\n",
    "\n",
    "# imu.reset_device()\n",
    "imu.initialize()\n",
    "signal.signal(signal.SIGINT, handle_signal)\n",
    "\n",
    "# del imu\n",
    "\n",
    "# imu = imu_core.imu_core_cpp.Imu3DM_GX3_25(\"/dev/ttyACM1\", True)\n",
    "# imu.initialize()\n",
    "\n",
    "print('a')\n",
    "while keep_running:\n",
    "    print(\"acc = [\", end='')\n",
    "\n",
    "    for e in imu.get_acceleration():\n",
    "        print(f\"{e:+.3f} \", end='')\n",
    "\n",
    "    print(\"]  ang rate = [\", end='')\n",
    "\n",
    "    for e in imu.get_angular_rate():\n",
    "        print(f\"{e:+.3f} \", end='')\n",
    "\n",
    "    print(\"]\")\n",
    "\n",
    "    time.sleep(0.05)\n",
    "\n",
    "del imu  # explicitly call destructor\n",
    "sys.exit(0)"
   ]
  },
  {
   "cell_type": "code",
   "execution_count": null,
   "id": "321501bf",
   "metadata": {},
   "outputs": [],
   "source": []
  }
 ],
 "metadata": {
  "kernelspec": {
   "display_name": "Python 3",
   "language": "python",
   "name": "python3"
  },
  "language_info": {
   "codemirror_mode": {
    "name": "ipython",
    "version": 3
   },
   "file_extension": ".py",
   "mimetype": "text/x-python",
   "name": "python",
   "nbconvert_exporter": "python",
   "pygments_lexer": "ipython3",
   "version": "3.6.9"
  }
 },
 "nbformat": 4,
 "nbformat_minor": 5
}
