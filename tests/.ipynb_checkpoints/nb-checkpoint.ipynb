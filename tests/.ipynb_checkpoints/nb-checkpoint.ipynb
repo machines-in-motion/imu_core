{
 "cells": [
  {
   "cell_type": "code",
   "execution_count": null,
   "id": "4c968159",
   "metadata": {},
   "outputs": [],
   "source": [
    "import imu_core.imu_core_cpp, time, signal, sys\n",
    "import numpy as np"
   ]
  },
  {
   "cell_type": "code",
   "execution_count": null,
   "id": "dbfcdd36",
   "metadata": {},
   "outputs": [],
   "source": [
    "keep_running = True\n",
    "\n",
    "def handle_signal(s, f):\n",
    "    global keep_running\n",
    "    keep_running = False\n",
    "    print(\"\\nexiting\")\n",
    "\n",
    "signal.signal(signal.SIGINT, handle_signal)"
   ]
  },
  {
   "cell_type": "code",
   "execution_count": null,
   "id": "321501bf",
   "metadata": {},
   "outputs": [],
   "source": [
    "imu = imu_core.imu_core_cpp.Imu3DM_GX3_25(\"/dev/ttyACM1\", True)  # assuming port of /dev/ttyACM1\n",
    "imu.initialize()\n",
    "\n",
    "while keep_running:\n",
    "    # print(\"acc: \", [f\"{e:+.3f}\" for e in imu.get_acceleration()], \"ang rate: \", [f\"{e:+.3f}\" for e in imu.get_angular_rate()])\n",
    "    print(\"acc = [\", end='')\n",
    "\n",
    "    for e in imu.get_acceleration():\n",
    "        print(f\"{e:+.3f} \", end='')\n",
    "\n",
    "    print(\"]  ang rate = [\", end='')\n",
    "\n",
    "    for e in imu.get_angular_rate():\n",
    "        print(f\"{e:+.3f} \", end='')\n",
    "\n",
    "    print(\"]\", end='\\r')\n",
    "\n",
    "    time.sleep(0.05)\n",
    "\n",
    "del imu  # explicitly call destructor\n",
    "sys.exit(0)"
   ]
  },
  {
   "cell_type": "code",
   "execution_count": null,
   "id": "95ff3809",
   "metadata": {},
   "outputs": [],
   "source": []
  }
 ],
 "metadata": {
  "kernelspec": {
   "display_name": "Python 3",
   "language": "python",
   "name": "python3"
  },
  "language_info": {
   "codemirror_mode": {
    "name": "ipython",
    "version": 3
   },
   "file_extension": ".py",
   "mimetype": "text/x-python",
   "name": "python",
   "nbconvert_exporter": "python",
   "pygments_lexer": "ipython3",
   "version": "3.6.9"
  }
 },
 "nbformat": 4,
 "nbformat_minor": 5
}
