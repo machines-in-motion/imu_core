{
 "cells": [
  {
   "cell_type": "code",
   "execution_count": 1,
   "id": "4c968159",
   "metadata": {},
   "outputs": [],
   "source": [
    "import time\n",
    "import signal\n",
    "import sys\n",
    "import numpy as np\n",
    "import imu_core.imu_core_cpp as IMU\n",
    "\n",
    "np.set_printoptions(precision=3, suppress=True, sign=' ', floatmode='fixed')\n",
    "\n",
    "def handle_signal(s, f):\n",
    "    # this way is better then the commented version because you want \n",
    "    # to force it to call destructor immediately\n",
    "    # For example, in ipython, you would have to exit the ipython \n",
    "    # instead completely instead of just ctrl-c to exit the script\n",
    "    print(\"\\nExiting!\\n\")\n",
    "    global imu\n",
    "    del imu\n",
    "    sys.exit(0)\n",
    "    \n",
    "signal.signal(signal.SIGINT, handle_signal)"
   ]
  },
  {
   "cell_type": "code",
   "execution_count": null,
   "id": "883517b1",
   "metadata": {},
   "outputs": [],
   "source": [
    "port = \"/dev/ttyACM1\"  # change to whatever\n",
    "imu = IMU.Imu3DM_GX3_25(port, True)\n",
    "\n",
    "imu.initialize()\n",
    "\n",
    "np.set_printoptions(precision=3, suppress=True, sign=' ', floatmode='fixed')"
   ]
  },
  {
   "cell_type": "code",
   "execution_count": null,
   "id": "9a6773f0",
   "metadata": {},
   "outputs": [],
   "source": [
    "while True:\n",
    "    print(\"Acceleration: \", imu.get_acceleration(), \"Angular Rate: \", imu.get_angular_rate())\n",
    "    time.sleep(0.05)"
   ]
  }
 ],
 "metadata": {
  "kernelspec": {
   "display_name": "Python 3",
   "language": "python",
   "name": "python3"
  },
  "language_info": {
   "codemirror_mode": {
    "name": "ipython",
    "version": 3
   },
   "file_extension": ".py",
   "mimetype": "text/x-python",
   "name": "python",
   "nbconvert_exporter": "python",
   "pygments_lexer": "ipython3",
   "version": "3.6.9"
  }
 },
 "nbformat": 4,
 "nbformat_minor": 5
}
