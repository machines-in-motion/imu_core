{
 "cells": [
  {
   "cell_type": "code",
   "execution_count": null,
   "id": "4061a119",
   "metadata": {},
   "outputs": [],
   "source": [
    "import signal\n",
    "import sys\n",
    "import time\n",
    "import numpy as np\n",
    "np.set_printoptions(precision=3, suppress=True, sign=' ', floatmode='fixed')\n",
    "import imu_core.imu_core_cpp as IMU"
   ]
  },
  {
   "cell_type": "code",
   "execution_count": null,
   "id": "ad36b3cb",
   "metadata": {},
   "outputs": [],
   "source": [
    "if __name__ == \"__main__\":\n",
    "    def handle_signal(s, f):\n",
    "        global keep_running\n",
    "        keep_running = False\n",
    "        \n",
    "    signal.signal(signal.SIGINT, handle_signal)\n",
    "\n",
    "    if len(sys.argv) == 1:\n",
    "        # default port\n",
    "        # port = \"/dev/ttyACM0\"\n",
    "        port = \"/dev/ttyACM1\"\n",
    "    elif len(sys.argv) == 2:\n",
    "        # use command line argument\n",
    "        port = sys.argv[1]\n",
    "    else:\n",
    "        # wrong number of arguments\n",
    "        sys.exit(f\"Wrong number of arguments: expected 1, received {len(sys.argv) - 1}: {sys.argv[1:]}\")\n",
    "\n",
    "\n",
    "    imu = IMU.Imu3DM_GX3_45(port, True)\n",
    "\n",
    "    imu.initialize()\n",
    "\n",
    "    keep_running = True\n",
    "\n",
    "    while keep_running:\n",
    "        print(\"Acceleration: \", imu.get_acceleration(), \"Angular Rate: \", imu.get_angular_rate())\n",
    "        time.sleep(0.05)\n",
    "\n",
    "    print(\"\\nExiting!\")    \n",
    "    # C++ destructor will get automatically called, but not necessarily when the \n",
    "    # script ends.\n",
    "    # This can lead to problems when using ipython if you don't exit out of ipython\n",
    "    # fully before calling this script again.\n",
    "    # Eg., if you run ipython, run test.py, ctrl-c, the destructor won't run. \n",
    "    # This is because ipython keeps variables.\n",
    "    # del imu forces the destructor to run.\n",
    "    del imu\n",
    "    sys.exit(0)"
   ]
  }
 ],
 "metadata": {
  "kernelspec": {
   "display_name": "Python 3",
   "language": "python",
   "name": "python3"
  },
  "language_info": {
   "codemirror_mode": {
    "name": "ipython",
    "version": 3
   },
   "file_extension": ".py",
   "mimetype": "text/x-python",
   "name": "python",
   "nbconvert_exporter": "python",
   "pygments_lexer": "ipython3",
   "version": "3.6.9"
  }
 },
 "nbformat": 4,
 "nbformat_minor": 5
}
